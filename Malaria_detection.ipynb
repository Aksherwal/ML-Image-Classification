{
 "cells": [
  {
   "cell_type": "code",
   "execution_count": 1,
   "id": "631f35e6",
   "metadata": {},
   "outputs": [
    {
     "name": "stderr",
     "output_type": "stream",
     "text": [
      "c:\\Users\\Mayank Singh Tomar\\AppData\\Local\\Programs\\Python\\Python311\\Lib\\site-packages\\sklearn\\neural_network\\_multilayer_perceptron.py:691: ConvergenceWarning: Stochastic Optimizer: Maximum iterations (10) reached and the optimization hasn't converged yet.\n",
      "  warnings.warn(\n"
     ]
    },
    {
     "name": "stdout",
     "output_type": "stream",
     "text": [
      "Train Accuracy: 0.9304\n",
      "Test Accuracy: 0.7435\n",
      "Train F1 Score: 0.9303\n",
      "Test F1 Score: 0.7430\n"
     ]
    }
   ],
   "source": [
    "import os\n",
    "import numpy as np\n",
    "from skimage import io\n",
    "from skimage.transform import resize\n",
    "from sklearn.model_selection import train_test_split\n",
    "from sklearn.preprocessing import StandardScaler\n",
    "from sklearn.neural_network import MLPClassifier\n",
    "from sklearn.metrics import accuracy_score, f1_score\n",
    "\n",
    "# Setting image directories\n",
    "infected_dir = 'C:/Users/Mayank Singh Tomar/OneDrive/Desktop/Sem-4/ML/digit-recognizer/cell_images/Parasitized'\n",
    "uninfected_dir = 'C:/Users/Mayank Singh Tomar/OneDrive/Desktop/Sem-4/ML/digit-recognizer/cell_images/Uninfected'\n",
    "\n",
    "X = []\n",
    "y = []\n",
    "img_size = (64, 64)\n",
    "\n",
    "# Load and preprocess images\n",
    "for label, directory in [(1, infected_dir), (0, uninfected_dir)]:\n",
    "    for image_filename in os.listdir(directory):\n",
    "        if image_filename.endswith('.png'):\n",
    "            img = io.imread(os.path.join(directory, image_filename))\n",
    "            img_resized = resize(img, img_size, mode='reflect', anti_aliasing=True)\n",
    "            X.append(img_resized.flatten())\n",
    "            y.append(label)\n",
    "\n",
    "X = np.array(X)\n",
    "y = np.array(y)\n",
    "\n",
    "# Scale the features\n",
    "scaler = StandardScaler()\n",
    "X_scaled = scaler.fit_transform(X)\n",
    "\n",
    "# Train-test split\n",
    "X_train, X_test, y_train, y_test = train_test_split(X_scaled, y, test_size=0.2, random_state=42)\n",
    "\n",
    "# Initialize and train the model\n",
    "model = MLPClassifier(hidden_layer_sizes=(512, 128), activation='relu', solver='adam', max_iter=10, random_state=42)\n",
    "model.fit(X_train, y_train)\n",
    "\n",
    "# Evaluate the model\n",
    "train_preds = model.predict(X_train)\n",
    "test_preds = model.predict(X_test)\n",
    "\n",
    "print(f\"Train Accuracy: {accuracy_score(y_train, train_preds):.4f}\")\n",
    "print(f\"Test Accuracy: {accuracy_score(y_test, test_preds):.4f}\")\n",
    "print(f\"Train F1 Score: {f1_score(y_train, train_preds):.4f}\")\n",
    "print(f\"Test F1 Score: {f1_score(y_test, test_preds):.4f}\")\n"
   ]
  },
  {
   "cell_type": "code",
   "execution_count": null,
   "id": "54416d3e",
   "metadata": {},
   "outputs": [],
   "source": []
  }
 ],
 "metadata": {
  "kernelspec": {
   "display_name": "Python 3",
   "language": "python",
   "name": "python3"
  },
  "language_info": {
   "codemirror_mode": {
    "name": "ipython",
    "version": 3
   },
   "file_extension": ".py",
   "mimetype": "text/x-python",
   "name": "python",
   "nbconvert_exporter": "python",
   "pygments_lexer": "ipython3",
   "version": "3.11.4"
  }
 },
 "nbformat": 4,
 "nbformat_minor": 5
}
